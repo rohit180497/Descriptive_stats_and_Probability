{
 "cells": [
  {
   "cell_type": "code",
   "execution_count": 1,
   "metadata": {},
   "outputs": [],
   "source": [
    "import numpy as np\n",
    "import pandas as pd\n",
    "import matplotlib.pyplot as plt\n"
   ]
  },
  {
   "cell_type": "code",
   "execution_count": 5,
   "metadata": {},
   "outputs": [
    {
     "data": {
      "text/html": [
       "<div>\n",
       "<style scoped>\n",
       "    .dataframe tbody tr th:only-of-type {\n",
       "        vertical-align: middle;\n",
       "    }\n",
       "\n",
       "    .dataframe tbody tr th {\n",
       "        vertical-align: top;\n",
       "    }\n",
       "\n",
       "    .dataframe thead th {\n",
       "        text-align: right;\n",
       "    }\n",
       "</style>\n",
       "<table border=\"1\" class=\"dataframe\">\n",
       "  <thead>\n",
       "    <tr style=\"text-align: right;\">\n",
       "      <th></th>\n",
       "      <th>customer.id</th>\n",
       "      <th>credit.policy</th>\n",
       "      <th>purpose</th>\n",
       "      <th>int.rate</th>\n",
       "      <th>installment</th>\n",
       "      <th>log.annual.inc</th>\n",
       "      <th>dti</th>\n",
       "      <th>fico</th>\n",
       "      <th>days.with.cr.line</th>\n",
       "      <th>revol.bal</th>\n",
       "      <th>revol.util</th>\n",
       "      <th>pub.rec</th>\n",
       "      <th>inq.last.6mths</th>\n",
       "      <th>delinq.2yrs</th>\n",
       "      <th>paid.back.loan</th>\n",
       "    </tr>\n",
       "  </thead>\n",
       "  <tbody>\n",
       "    <tr>\n",
       "      <th>0</th>\n",
       "      <td>LA001</td>\n",
       "      <td>Yes</td>\n",
       "      <td>debt_consolidation</td>\n",
       "      <td>11.89%</td>\n",
       "      <td>829.10</td>\n",
       "      <td>11.350407</td>\n",
       "      <td>19.48</td>\n",
       "      <td>737</td>\n",
       "      <td>5639.958333</td>\n",
       "      <td>28854</td>\n",
       "      <td>52.1</td>\n",
       "      <td>0</td>\n",
       "      <td>Less than 5</td>\n",
       "      <td>No</td>\n",
       "      <td>Yes</td>\n",
       "    </tr>\n",
       "    <tr>\n",
       "      <th>1</th>\n",
       "      <td>LA002</td>\n",
       "      <td>Yes</td>\n",
       "      <td>credit_card</td>\n",
       "      <td>10.71%</td>\n",
       "      <td>228.22</td>\n",
       "      <td>11.082143</td>\n",
       "      <td>14.29</td>\n",
       "      <td>707</td>\n",
       "      <td>2760.000000</td>\n",
       "      <td>33623</td>\n",
       "      <td>76.7</td>\n",
       "      <td>0</td>\n",
       "      <td>Less than 5</td>\n",
       "      <td>No</td>\n",
       "      <td>Yes</td>\n",
       "    </tr>\n",
       "    <tr>\n",
       "      <th>2</th>\n",
       "      <td>LA003</td>\n",
       "      <td>Yes</td>\n",
       "      <td>debt_consolidation</td>\n",
       "      <td>13.57%</td>\n",
       "      <td>366.86</td>\n",
       "      <td>10.373491</td>\n",
       "      <td>11.63</td>\n",
       "      <td>682</td>\n",
       "      <td>4710.000000</td>\n",
       "      <td>3511</td>\n",
       "      <td>25.6</td>\n",
       "      <td>0</td>\n",
       "      <td>Less than 5</td>\n",
       "      <td>No</td>\n",
       "      <td>Yes</td>\n",
       "    </tr>\n",
       "    <tr>\n",
       "      <th>3</th>\n",
       "      <td>LA004</td>\n",
       "      <td>Yes</td>\n",
       "      <td>debt_consolidation</td>\n",
       "      <td>10.08%</td>\n",
       "      <td>162.34</td>\n",
       "      <td>11.350407</td>\n",
       "      <td>8.10</td>\n",
       "      <td>712</td>\n",
       "      <td>2699.958333</td>\n",
       "      <td>33667</td>\n",
       "      <td>73.2</td>\n",
       "      <td>0</td>\n",
       "      <td>Less than 5</td>\n",
       "      <td>No</td>\n",
       "      <td>Yes</td>\n",
       "    </tr>\n",
       "    <tr>\n",
       "      <th>4</th>\n",
       "      <td>LA005</td>\n",
       "      <td>Yes</td>\n",
       "      <td>credit_card</td>\n",
       "      <td>14.26%</td>\n",
       "      <td>102.92</td>\n",
       "      <td>11.299732</td>\n",
       "      <td>14.97</td>\n",
       "      <td>667</td>\n",
       "      <td>4066.000000</td>\n",
       "      <td>4740</td>\n",
       "      <td>39.5</td>\n",
       "      <td>0</td>\n",
       "      <td>Less than 5</td>\n",
       "      <td>Yes</td>\n",
       "      <td>Yes</td>\n",
       "    </tr>\n",
       "  </tbody>\n",
       "</table>\n",
       "</div>"
      ],
      "text/plain": [
       "  customer.id credit.policy             purpose int.rate  installment  \\\n",
       "0       LA001           Yes  debt_consolidation   11.89%       829.10   \n",
       "1       LA002           Yes         credit_card   10.71%       228.22   \n",
       "2       LA003           Yes  debt_consolidation   13.57%       366.86   \n",
       "3       LA004           Yes  debt_consolidation   10.08%       162.34   \n",
       "4       LA005           Yes         credit_card   14.26%       102.92   \n",
       "\n",
       "   log.annual.inc    dti  fico  days.with.cr.line  revol.bal  revol.util  \\\n",
       "0       11.350407  19.48   737        5639.958333      28854        52.1   \n",
       "1       11.082143  14.29   707        2760.000000      33623        76.7   \n",
       "2       10.373491  11.63   682        4710.000000       3511        25.6   \n",
       "3       11.350407   8.10   712        2699.958333      33667        73.2   \n",
       "4       11.299732  14.97   667        4066.000000       4740        39.5   \n",
       "\n",
       "   pub.rec inq.last.6mths delinq.2yrs paid.back.loan  \n",
       "0        0    Less than 5          No            Yes  \n",
       "1        0    Less than 5          No            Yes  \n",
       "2        0    Less than 5          No            Yes  \n",
       "3        0    Less than 5          No            Yes  \n",
       "4        0    Less than 5         Yes            Yes  "
      ]
     },
     "execution_count": 5,
     "metadata": {},
     "output_type": "execute_result"
    }
   ],
   "source": [
    "# Load the dataframe\n",
    "path = \"/Users/rahulkosamkar/Documents/Data_Science/Projects/Descriptive_stats_and_Probability/probability_of_loan_defaulters/cleaned_loan_data.csv\"\n",
    "df = pd.read_csv(path)\n",
    "df.head(5)"
   ]
  },
  {
   "cell_type": "code",
   "execution_count": 6,
   "metadata": {},
   "outputs": [
    {
     "name": "stdout",
     "output_type": "stream",
     "text": [
      "0.5593025683858843\n"
     ]
    }
   ],
   "source": [
    "# probability of  fico score greater than 700\n",
    "\n",
    "p_a = df[df['fico'].astype(float) >700].shape[0]/df.shape[0]\n",
    "print(p_a)\n",
    "\n"
   ]
  },
  {
   "cell_type": "code",
   "execution_count": 7,
   "metadata": {},
   "outputs": [
    {
     "name": "stdout",
     "output_type": "stream",
     "text": [
      "0.4131342660263103\n"
     ]
    }
   ],
   "source": [
    "# probability of purpose == debt_consolidation\n",
    "p_b = df[df['purpose']== 'debt_consolidation'].shape[0]/df.shape[0]\n",
    "print(p_b)\n"
   ]
  },
  {
   "cell_type": "code",
   "execution_count": 8,
   "metadata": {},
   "outputs": [],
   "source": [
    "# Create new dataframe for condition ['purpose']== 'debt_consolidation' \n",
    "df1 = df[df['purpose']== 'debt_consolidation']\n"
   ]
  },
  {
   "cell_type": "code",
   "execution_count": 9,
   "metadata": {},
   "outputs": [
    {
     "name": "stdout",
     "output_type": "stream",
     "text": [
      "0.489764973464746\n",
      "False\n"
     ]
    }
   ],
   "source": [
    "# Calculate the P(A|B)\n",
    "p_a_b = df1[df1['fico'].astype(float) >700].shape[0]/df1.shape[0]\n",
    "print(p_a_b)\n",
    "# Check whether the P(A) and P(B) are independent from each other\n",
    "result = (p_a == p_a_b)\n",
    "print(result)\n"
   ]
  },
  {
   "cell_type": "code",
   "execution_count": 10,
   "metadata": {},
   "outputs": [
    {
     "name": "stdout",
     "output_type": "stream",
     "text": [
      "0.8399457089162664\n"
     ]
    }
   ],
   "source": [
    "# probability of paid_back_loan is Yes\n",
    "prob_lp = df[df['paid.back.loan'] == 'Yes'].shape[0] / df.shape[0]\n",
    "print(prob_lp)\n"
   ]
  },
  {
   "cell_type": "code",
   "execution_count": 11,
   "metadata": {},
   "outputs": [
    {
     "name": "stdout",
     "output_type": "stream",
     "text": [
      "0.8049697222802256\n",
      "0.8323182100683655\n"
     ]
    }
   ],
   "source": [
    "# probability of the credit policy is Yes\n",
    "prob_cs = df[df['credit.policy'] == 'Yes'].shape[0]  / df.shape[0]\n",
    "print(prob_cs)\n",
    "# create new dataframe for paid.back.loan == 'Yes'\n",
    "new_df = df[df['paid.back.loan'] == 'Yes']\n",
    "\n",
    "# Calculate the P(B|A)\n",
    "prob_pd_cs = new_df[new_df['credit.policy'] == 'Yes'].shape[0] / new_df.shape[0]\n",
    "\n",
    "print(prob_pd_cs)\n"
   ]
  },
  {
   "cell_type": "code",
   "execution_count": 12,
   "metadata": {},
   "outputs": [
    {
     "name": "stdout",
     "output_type": "stream",
     "text": [
      "0.8684824902723735\n"
     ]
    }
   ],
   "source": [
    "# bayes theorem \n",
    "\n",
    "bayes = (prob_pd_cs * prob_lp)/ prob_cs\n",
    "\n",
    "# print bayes\n",
    "print(bayes)\n"
   ]
  },
  {
   "cell_type": "code",
   "execution_count": 13,
   "metadata": {},
   "outputs": [
    {
     "data": {
      "image/png": "[encoded data removed]",
      "text/plain": [
       "<Figure size 432x288 with 1 Axes>"
      ]
     },
     "metadata": {
      "needs_background": "light"
     },
     "output_type": "display_data"
    }
   ],
   "source": [
    "# create bar plot for purpose\n",
    "df.purpose.value_counts(normalize=True).plot(kind='bar')\n",
    "plt.title(\"Probability Distribution of Purpose\")\n",
    "plt.ylabel(\"Probability\")\n",
    "plt.xlabel(\"Number of Purpose\")\n",
    "plt.show()\n"
   ]
  },
  {
   "cell_type": "code",
   "execution_count": 14,
   "metadata": {},
   "outputs": [],
   "source": [
    "#create new dataframe for paid.back.loan == 'No'\n",
    "df1= df[df['paid.back.loan'] == 'No']\n"
   ]
  },
  {
   "cell_type": "code",
   "execution_count": 15,
   "metadata": {},
   "outputs": [
    {
     "data": {
      "image/png": "[encoded data removed]",
      "text/plain": [
       "<Figure size 432x288 with 1 Axes>"
      ]
     },
     "metadata": {
      "needs_background": "light"
     },
     "output_type": "display_data"
    }
   ],
   "source": [
    "# plot the bar plot for 'purpose' where paid.back.loan == No \n",
    "df1.purpose.value_counts(normalize=True).plot(kind='bar')\n",
    "plt.title(\"Probability Distribution of Purpose\")\n",
    "plt.ylabel(\"Probability\")\n",
    "plt.xlabel(\"Number of Purpose\")\n",
    "plt.show()\n"
   ]
  },
  {
   "cell_type": "code",
   "execution_count": 17,
   "metadata": {},
   "outputs": [
    {
     "name": "stdout",
     "output_type": "stream",
     "text": [
      "268.95\n",
      "319.08941323867265\n"
     ]
    }
   ],
   "source": [
    "# Calculate median \n",
    "inst_median = df['installment'].median()\n",
    "inst_mean = df['installment'].mean()\n",
    "print(inst_median)\n",
    "print(inst_mean)\n"
   ]
  },
  {
   "cell_type": "code",
   "execution_count": 18,
   "metadata": {},
   "outputs": [
    {
     "data": {
      "image/png": "[encoded data removed]",
      "text/plain": [
       "<Figure size 432x288 with 1 Axes>"
      ]
     },
     "metadata": {
      "needs_background": "light"
     },
     "output_type": "display_data"
    }
   ],
   "source": [
    "# histogram for installment\n",
    "df['installment'].hist(density = True, bins=50)\n",
    "plt.axvline(x=inst_median,color='r')\n",
    "plt.axvline(x=inst_mean,color='g')\n",
    "plt.show()\n"
   ]
  },
  {
   "cell_type": "code",
   "execution_count": 19,
   "metadata": {},
   "outputs": [
    {
     "data": {
      "image/png": "[encoded data removed]",
      "text/plain": [
       "<Figure size 432x288 with 1 Axes>"
      ]
     },
     "metadata": {
      "needs_background": "light"
     },
     "output_type": "display_data"
    }
   ],
   "source": [
    "#histogram for log anual income\n",
    "df['log.annual.inc'].hist(density = True, bins=50)\n",
    "plt.show()"
   ]
  },
  {
   "cell_type": "code",
   "execution_count": null,
   "metadata": {},
   "outputs": [],
   "source": []
  }
 ],
 "metadata": {
  "kernelspec": {
   "display_name": "Python 3",
   "language": "python",
   "name": "python3"
  },
  "language_info": {
   "codemirror_mode": {
    "name": "ipython",
    "version": 3
   },
   "file_extension": ".py",
   "mimetype": "text/x-python",
   "name": "python",
   "nbconvert_exporter": "python",
   "pygments_lexer": "ipython3",
   "version": "3.8.5"
  }
 },
 "nbformat": 4,
 "nbformat_minor": 4
}

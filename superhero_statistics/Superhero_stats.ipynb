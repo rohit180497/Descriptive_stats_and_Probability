{
 "cells": [
  {
   "cell_type": "code",
   "execution_count": 1,
   "metadata": {},
   "outputs": [],
   "source": [
    "#Header files\n",
    "import pandas as pd\n",
    "import numpy as np\n",
    "import matplotlib.pyplot as plt\n",
    "\n"
   ]
  },
  {
   "cell_type": "code",
   "execution_count": 3,
   "metadata": {},
   "outputs": [
    {
     "data": {
      "text/html": [
       "<div>\n",
       "<style scoped>\n",
       "    .dataframe tbody tr th:only-of-type {\n",
       "        vertical-align: middle;\n",
       "    }\n",
       "\n",
       "    .dataframe tbody tr th {\n",
       "        vertical-align: top;\n",
       "    }\n",
       "\n",
       "    .dataframe thead th {\n",
       "        text-align: right;\n",
       "    }\n",
       "</style>\n",
       "<table border=\"1\" class=\"dataframe\">\n",
       "  <thead>\n",
       "    <tr style=\"text-align: right;\">\n",
       "      <th></th>\n",
       "      <th>ID</th>\n",
       "      <th>Name</th>\n",
       "      <th>Alignment</th>\n",
       "      <th>Gender</th>\n",
       "      <th>Intelligence</th>\n",
       "      <th>Strength</th>\n",
       "      <th>Speed</th>\n",
       "      <th>Durability</th>\n",
       "      <th>Power</th>\n",
       "      <th>Combat</th>\n",
       "      <th>Total</th>\n",
       "      <th>Height</th>\n",
       "      <th>Weight</th>\n",
       "      <th>SkinColor</th>\n",
       "      <th>EyeColor</th>\n",
       "      <th>HairColor</th>\n",
       "      <th>Race</th>\n",
       "    </tr>\n",
       "  </thead>\n",
       "  <tbody>\n",
       "    <tr>\n",
       "      <th>0</th>\n",
       "      <td>0</td>\n",
       "      <td>3-D Man</td>\n",
       "      <td>good</td>\n",
       "      <td>Male</td>\n",
       "      <td>50</td>\n",
       "      <td>31</td>\n",
       "      <td>43</td>\n",
       "      <td>32</td>\n",
       "      <td>25</td>\n",
       "      <td>52</td>\n",
       "      <td>233</td>\n",
       "      <td>203.0</td>\n",
       "      <td>441</td>\n",
       "      <td>-</td>\n",
       "      <td>yellow</td>\n",
       "      <td>No Hair</td>\n",
       "      <td>Human</td>\n",
       "    </tr>\n",
       "    <tr>\n",
       "      <th>1</th>\n",
       "      <td>1</td>\n",
       "      <td>A-Bomb</td>\n",
       "      <td>good</td>\n",
       "      <td>Male</td>\n",
       "      <td>38</td>\n",
       "      <td>100</td>\n",
       "      <td>17</td>\n",
       "      <td>80</td>\n",
       "      <td>17</td>\n",
       "      <td>64</td>\n",
       "      <td>316</td>\n",
       "      <td>191.0</td>\n",
       "      <td>65</td>\n",
       "      <td>blue</td>\n",
       "      <td>blue</td>\n",
       "      <td>No Hair</td>\n",
       "      <td>Icthyo Sapien</td>\n",
       "    </tr>\n",
       "    <tr>\n",
       "      <th>2</th>\n",
       "      <td>2</td>\n",
       "      <td>Abe Sapien</td>\n",
       "      <td>good</td>\n",
       "      <td>Male</td>\n",
       "      <td>88</td>\n",
       "      <td>14</td>\n",
       "      <td>35</td>\n",
       "      <td>42</td>\n",
       "      <td>35</td>\n",
       "      <td>85</td>\n",
       "      <td>299</td>\n",
       "      <td>185.0</td>\n",
       "      <td>90</td>\n",
       "      <td>red</td>\n",
       "      <td>blue</td>\n",
       "      <td>No Hair</td>\n",
       "      <td>Ungaran</td>\n",
       "    </tr>\n",
       "    <tr>\n",
       "      <th>3</th>\n",
       "      <td>3</td>\n",
       "      <td>Abin Sur</td>\n",
       "      <td>good</td>\n",
       "      <td>Male</td>\n",
       "      <td>50</td>\n",
       "      <td>90</td>\n",
       "      <td>53</td>\n",
       "      <td>64</td>\n",
       "      <td>84</td>\n",
       "      <td>65</td>\n",
       "      <td>406</td>\n",
       "      <td>203.0</td>\n",
       "      <td>441</td>\n",
       "      <td>-</td>\n",
       "      <td>green</td>\n",
       "      <td>No Hair</td>\n",
       "      <td>Human / Radiation</td>\n",
       "    </tr>\n",
       "    <tr>\n",
       "      <th>4</th>\n",
       "      <td>4</td>\n",
       "      <td>Abomination</td>\n",
       "      <td>bad</td>\n",
       "      <td>Male</td>\n",
       "      <td>63</td>\n",
       "      <td>80</td>\n",
       "      <td>53</td>\n",
       "      <td>90</td>\n",
       "      <td>55</td>\n",
       "      <td>95</td>\n",
       "      <td>436</td>\n",
       "      <td>-99.0</td>\n",
       "      <td>-99</td>\n",
       "      <td>-</td>\n",
       "      <td>blue</td>\n",
       "      <td>Black</td>\n",
       "      <td>Cosmic Entity</td>\n",
       "    </tr>\n",
       "  </tbody>\n",
       "</table>\n",
       "</div>"
      ],
      "text/plain": [
       "   ID         Name Alignment Gender  Intelligence  Strength  Speed  \\\n",
       "0   0      3-D Man      good   Male            50        31     43   \n",
       "1   1       A-Bomb      good   Male            38       100     17   \n",
       "2   2   Abe Sapien      good   Male            88        14     35   \n",
       "3   3     Abin Sur      good   Male            50        90     53   \n",
       "4   4  Abomination       bad   Male            63        80     53   \n",
       "\n",
       "   Durability  Power  Combat  Total  Height  Weight SkinColor EyeColor  \\\n",
       "0          32     25      52    233   203.0     441         -   yellow   \n",
       "1          80     17      64    316   191.0      65      blue     blue   \n",
       "2          42     35      85    299   185.0      90       red     blue   \n",
       "3          64     84      65    406   203.0     441         -    green   \n",
       "4          90     55      95    436   -99.0     -99         -     blue   \n",
       "\n",
       "  HairColor               Race  \n",
       "0   No Hair              Human  \n",
       "1   No Hair      Icthyo Sapien  \n",
       "2   No Hair            Ungaran  \n",
       "3   No Hair  Human / Radiation  \n",
       "4     Black      Cosmic Entity  "
      ]
     },
     "execution_count": 3,
     "metadata": {},
     "output_type": "execute_result"
    }
   ],
   "source": [
    "#Reading of the file\n",
    "path = \"/Users/rahulkosamkar/Documents/Data_Science/Projects/Descriptive_stats_and_Probability/superhero_statistics/superhero.csv\"\n",
    "data=pd.read_csv(path)\n",
    "data.head(5)"
   ]
  },
  {
   "cell_type": "code",
   "execution_count": 4,
   "metadata": {},
   "outputs": [],
   "source": [
    "#Code starts here \n",
    "\n",
    "#Replacing '-'' in the column with 'Agender'\n",
    "data['Gender'].replace('-','Agender', inplace=True)\n"
   ]
  },
  {
   "cell_type": "code",
   "execution_count": 5,
   "metadata": {},
   "outputs": [
    {
     "name": "stdout",
     "output_type": "stream",
     "text": [
      "Male       413\n",
      "Female     157\n",
      "Agender     24\n",
      "Name: Gender, dtype: int64\n"
     ]
    },
    {
     "data": {
      "image/png": "[encoded data removed]",
      "text/plain": [
       "<Figure size 432x288 with 1 Axes>"
      ]
     },
     "metadata": {
      "needs_background": "light"
     },
     "output_type": "display_data"
    }
   ],
   "source": [
    "#Storing the value counts of 'Gender'\n",
    "gender_count=data['Gender'].value_counts()\n",
    "print(gender_count)\n",
    "#Plotting bar graph of 'gender_count'\n",
    "plt.bar(gender_count.index, gender_count)\n",
    "plt.show()\n"
   ]
  },
  {
   "cell_type": "code",
   "execution_count": 6,
   "metadata": {},
   "outputs": [
    {
     "data": {
      "text/plain": [
       "Text(0.5, 1.0, 'Character alignment')"
      ]
     },
     "execution_count": 6,
     "metadata": {},
     "output_type": "execute_result"
    },
    {
     "data": {
      "image/png": "[encoded data removed]",
      "text/plain": [
       "<Figure size 432x432 with 1 Axes>"
      ]
     },
     "metadata": {},
     "output_type": "display_data"
    }
   ],
   "source": [
    "#Storing the value count of 'Alignment' \n",
    "alignment = data['Alignment'].value_counts()\n",
    "\n",
    "#Setting the figure size\n",
    "plt.figure(figsize=(6,6))\n",
    "\n",
    "#Plotting pie chart for 'alignment'\n",
    "plt.pie(alignment,labels=alignment.index,explode=(0.05,0.05,0.05),autopct='%1.1f %%')\n",
    "            \n",
    "#Setting the pie chart title\n",
    "plt.title('Character alignment')\n",
    "\n"
   ]
  },
  {
   "cell_type": "code",
   "execution_count": 7,
   "metadata": {},
   "outputs": [
    {
     "name": "stdout",
     "output_type": "stream",
     "text": [
      "Pearson's Correlation Coefficient between Strength and Combat :  0.5720958235612106\n"
     ]
    }
   ],
   "source": [
    "#Subsetting the data with columns ['Strength', 'Combat']\n",
    "sc_df = data[['Strength','Combat']].copy()\n",
    "\n",
    "#Finding covariance between 'Strength' and 'Combat'\n",
    "sc_covariance = sc_df.cov().iloc[0,1]\n",
    "\n",
    "#Finding the standard deviation of 'Strength'\n",
    "sc_strength = sc_df['Strength'].std()\n",
    "\n",
    "#Finding the standard deviation of 'Combat'\n",
    "sc_combat = sc_df['Combat'].std()\n",
    "\n",
    "#Calculating the Pearson's correlation between 'Strength' and 'Combat'\n",
    "sc_pearson = sc_covariance/(sc_combat*sc_strength)\n",
    "\n",
    "print(\"Pearson's Correlation Coefficient between Strength and Combat : \", sc_pearson)\n"
   ]
  },
  {
   "cell_type": "code",
   "execution_count": 8,
   "metadata": {},
   "outputs": [
    {
     "name": "stdout",
     "output_type": "stream",
     "text": [
      "Pearson's Correlation Coefficient between Intelligence and Combat :  0.7821504525171137\n"
     ]
    }
   ],
   "source": [
    "#Subsetting the data with columns ['Intelligence', 'Combat']\n",
    "ic_df = data[['Intelligence','Combat']].copy()\n",
    "\n",
    "#Finding covariance between 'Intelligence' and 'Combat'\n",
    "ic_covariance = ic_df.cov().iloc[0,1]\n",
    "\n",
    "#Finding the standard deviation of 'Intelligence'\n",
    "ic_intelligence = ic_df['Intelligence'].std()\n",
    "\n",
    "#Finding the standard deviation of 'Combat'\n",
    "ic_combat = ic_df['Combat'].std()\n",
    "\n",
    "#Calculating the Pearson's correlation between 'Intelligence' and 'Combat'\n",
    "ic_pearson = ic_covariance/(ic_intelligence*ic_combat)\n",
    "\n",
    "print(\"Pearson's Correlation Coefficient between Intelligence and Combat : \", ic_pearson)\n"
   ]
  },
  {
   "cell_type": "code",
   "execution_count": 9,
   "metadata": {},
   "outputs": [
    {
     "name": "stdout",
     "output_type": "stream",
     "text": [
      "['Amazo', 'General Zod', 'Martian Manhunter', 'Stardust', 'Superboy-Prime', 'Superman']\n"
     ]
    }
   ],
   "source": [
    "#Find the quantile=0.99 value of 'Total' column\n",
    "total_high= data['Total'].quantile(q=0.99)\n",
    "\n",
    "#Subsetting the dataframe based on 'total_high' \n",
    "super_best=data[data['Total']>total_high]\n",
    "\n",
    "#Creating a list of 'Name' associated with the 'super_best' dataframe\n",
    "super_best_names=list(super_best['Name'])\n",
    "\n",
    "#Printing the names\n",
    "print(super_best_names)\n"
   ]
  },
  {
   "cell_type": "code",
   "execution_count": null,
   "metadata": {},
   "outputs": [],
   "source": []
  }
 ],
 "metadata": {
  "kernelspec": {
   "display_name": "Python 3",
   "language": "python",
   "name": "python3"
  },
  "language_info": {
   "codemirror_mode": {
    "name": "ipython",
    "version": 3
   },
   "file_extension": ".py",
   "mimetype": "text/x-python",
   "name": "python",
   "nbconvert_exporter": "python",
   "pygments_lexer": "ipython3",
   "version": "3.8.5"
  }
 },
 "nbformat": 4,
 "nbformat_minor": 4
}

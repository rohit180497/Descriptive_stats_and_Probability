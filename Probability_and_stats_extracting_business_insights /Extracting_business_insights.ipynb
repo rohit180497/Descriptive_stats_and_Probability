{
 "cells": [
  {
   "cell_type": "code",
   "execution_count": 1,
   "metadata": {},
   "outputs": [],
   "source": [
    "import pandas as pd\n",
    "import numpy as np\n",
    "import matplotlib.pyplot as plt\n",
    "\n"
   ]
  },
  {
   "cell_type": "code",
   "execution_count": 2,
   "metadata": {},
   "outputs": [],
   "source": [
    "def visual_summary(type_, df, col):\n",
    "    \"\"\"Summarize the Data using Visual Method.\n",
    "    \n",
    "    This function accepts the type of visualization, the data frame and the column to be summarized.\n",
    "    It displays the chart based on the given parameters.\n",
    "    \n",
    "    Keyword arguments:\n",
    "    type_ -- visualization method to be used\n",
    "    df -- the dataframe\n",
    "    col -- the column in the dataframe to be summarized\n",
    "    \"\"\"\n",
    "    if type_ == 'hist':\n",
    "        df[col].hist(bins = 20)\n",
    "        plt.show()\n",
    "    elif type_ == 'scatter':\n",
    "        plt.scatter(df[col[0]], df[col[1]])\n",
    "        plt.show()\n",
    "    elif type_ == 'pie':\n",
    "        plt.pie(df[col].value_counts())\n",
    "        plt.show()\n",
    "    else:\n",
    "        print(\"Call the function again with proper parameters.\")\n",
    "    "
   ]
  },
  {
   "cell_type": "code",
   "execution_count": 3,
   "metadata": {},
   "outputs": [],
   "source": [
    "def central_tendency(type_, df, col):\n",
    "    \"\"\"Calculate the measure of central tendency.\n",
    "    \n",
    "    This function accepts the type of central tendency to be calculated, the data frame and the required column.\n",
    "    It returns the calculated measure.\n",
    "    \n",
    "    Keyword arguments:\n",
    "    type_ -- type of central tendency to be calculated\n",
    "    df -- the dataframe\n",
    "    col -- the column in the dataframe to do the calculations\n",
    "    \n",
    "    Returns:\n",
    "    cent_tend -- the calculated measure of central tendency\n",
    "    \"\"\"\n",
    "    if type_== 'mean':\n",
    "        cent_tend = df[col].mean()\n",
    "    if type_ == 'mode':\n",
    "        cent_tend = df[col].mode()\n",
    "    if type_ == 'median':\n",
    "        cent_tend = df[col].median()\n",
    "        \n",
    "    return cent_tend\n"
   ]
  },
  {
   "cell_type": "code",
   "execution_count": 4,
   "metadata": {},
   "outputs": [],
   "source": [
    "def measure_of_dispersion(type_, df, col):\n",
    "    \"\"\"Calculate the measure of dispersion.\n",
    "    \n",
    "    This function accepts the measure of dispersion to be calculated, the data frame and the required column(s).\n",
    "    It returns the calculated measure.\n",
    "    \n",
    "    Keyword arguments:\n",
    "    type_ -- type of central tendency to be calculated\n",
    "    df -- the dataframe\n",
    "    col -- the column(s) in the dataframe to do the calculations, this is a list with 2 elements if we want to calculate covariance\n",
    "    \n",
    "    Returns:\n",
    "    disp -- the calculated measure of dispersion\n",
    "    \"\"\"\n",
    "    if type_ == 'range':\n",
    "        maximum = df[col].max()\n",
    "        minimum = df[col].min()\n",
    "        disp = maximum - minimum \n",
    "        \n",
    "    elif type_ == 'MAD':\n",
    "        mean = df[col].mean()\n",
    "        distance = abs(df[col] - mean)\n",
    "        disp = distance.sum()/len(distance)\n",
    "        \n",
    "    elif type_ == 'std dev':\n",
    "        mean = df[col].mean()\n",
    "        distance = (df[col] - mean)**2\n",
    "        disp = (distance.sum()/len(distance))**(1/2)\n",
    "        \n",
    "    elif type_ == 'CV':\n",
    "        mean = df[col].mean()\n",
    "        std = measure_of_dispersion('std dev', df, col)\n",
    "        disp = (std/mean)*100\n",
    "        \n",
    "    elif type_ == 'iqr':\n",
    "        q1 = df[col].quantile(q=0.25)\n",
    "        q3 = df[col].quantile(q=0.75)\n",
    "        disp = q3-q1\n",
    "        \n",
    "    elif type_ == 'cov':\n",
    "        new = df[col]\n",
    "        mean_col1 = new[col[0]].mean()\n",
    "        mean_col2 = new[col[1]].mean()\n",
    "        diff_col1 = (new[col[0]] - mean_col1)\n",
    "        diff_col2 = (new[col[1]] - mean_col2)\n",
    "        summation = (diff_col1 * diff_col2).sum()\n",
    "        n = new.shape[0]\n",
    "        disp = summation/n\n",
    "\n",
    "    else:\n",
    "        print(\"Call the measure_of_dispersion() with proper parameters.\")\n",
    "    \n",
    "    \n",
    "\n",
    "    \n",
    "    return disp\n",
    "\n"
   ]
  },
  {
   "cell_type": "code",
   "execution_count": 5,
   "metadata": {},
   "outputs": [],
   "source": [
    "def calculate_correlation(type_, df, col1, col2):\n",
    "    \"\"\"Calculate the defined correlation coefficient.\n",
    "    \n",
    "    This function accepts the type of correlation coefficient to be calculated, the data frame and the two column.\n",
    "    It returns the calculated coefficient.\n",
    "    \n",
    "    Keyword arguments:\n",
    "    type_ -- type of correlation coefficient to be calculated\n",
    "    df -- the dataframe\n",
    "    col1 -- first column\n",
    "    col2 -- second column\n",
    "    \n",
    "    Returns:\n",
    "    corr -- the calculated correlation coefficient\n",
    "    \"\"\"\n",
    "    newdf = df[[col1, col2]]\n",
    "    \n",
    "    if type_ == 'Pearson':\n",
    "        # Calulating Pearson correlation coefficient\n",
    "        covariance = newdf.cov().iloc[0,1]\n",
    "        std_col1 = newdf[col1].std()\n",
    "        std_col2 = newdf[col2].std()\n",
    "        corr = covariance/(std_col1*std_col2)\n",
    "        \n",
    "    elif type_ == 'Spearman':\n",
    "        # Calculating Spearman rank correlation coefficient\n",
    "        ranks = newdf.rank(axis=0)\n",
    "        ranks['d^2'] = (ranks[col1] - ranks[col2])**2\n",
    "        d_square = ranks['d^2'].sum()\n",
    "        n = ranks.shape[0]\n",
    "        corr = 1 - ((6*d_square)/(n**3 - n))\n",
    "        \n",
    "    else:\n",
    "        print(\"Call the calculate_correlation() with proper parameters.\")\n",
    "    \n",
    "    \n",
    "    return corr\n"
   ]
  },
  {
   "cell_type": "code",
   "execution_count": 6,
   "metadata": {},
   "outputs": [],
   "source": [
    "def calculate_probability_discrete(data, event):\n",
    "    \"\"\"Calculates the probability of an event from a discrete distribution.\n",
    "    \n",
    "    This function accepts the distribution of a variable and the event, and returns the probability of the event.\n",
    "    \n",
    "    Keyword arguments:\n",
    "    data -- series that contains the distribution of the discrete variable\n",
    "    event -- the event for which the probability is to be calculated\n",
    "    \n",
    "    Returns:\n",
    "    prob -- calculated probability fo the event\n",
    "    \"\"\"\n",
    "    total = data.value_counts().sum()\n",
    "    yes = data.value_counts()[event]\n",
    "    prob = yes/total\n",
    "    \n",
    "    \n",
    "    return prob\n",
    "    \n",
    "\n"
   ]
  },
  {
   "cell_type": "code",
   "execution_count": 7,
   "metadata": {},
   "outputs": [],
   "source": [
    "def event_independence_check(prob_event1, prob_event2, prob_event1_event2):\n",
    "    \"\"\"Checks if two events are independent.\n",
    "    \n",
    "    This function accepts the probability of 2 events and their joint probability.\n",
    "    And prints if the events are independent or not.\n",
    "    \n",
    "    Keyword arguments:\n",
    "    prob_event1 -- probability of event1\n",
    "    prob_event2 -- probability of event2\n",
    "    prob_event1_event2 -- probability of event1 and event2\n",
    "    \"\"\"\n",
    "    \n",
    "    if (prob_event1_event2 == prob_event1 * prob_event2):\n",
    "        print(\"Event 1 and Event 2 are independent.\")\n",
    "    else:\n",
    "        print(\"Event 1 and Event 2 are not independent.\")\n",
    "\n",
    "\n"
   ]
  },
  {
   "cell_type": "code",
   "execution_count": 8,
   "metadata": {},
   "outputs": [],
   "source": [
    "def bayes_theorem(df, col1, event1, col2, event2):\n",
    "    \"\"\"Calculates the conditional probability using Bayes Theorem.\n",
    "    \n",
    "    This function accepts the dataframe, two columns along with two conditions to calculate the probability, P(B|A).\n",
    "    You can call the calculate_probability_discrete() to find the basic probabilities and then use them to find the conditional probability.\n",
    "    \n",
    "    Keyword arguments:\n",
    "    df -- the dataframe\n",
    "    col1 -- the first column where the first event is recorded\n",
    "    event1 -- event to define the first condition\n",
    "    col2 -- the second column where the second event is recorded\n",
    "    event2 -- event to define the second condition\n",
    "    \n",
    "    Returns:\n",
    "    prob -- calculated probability for the event1 given event2 has already occured\n",
    "    \"\"\"\n",
    "    p_A = calculate_probability_discrete(df[col1],event1)\n",
    "    p_B = calculate_probability_discrete(df[col2],event2)\n",
    "    p_B_given_A = calculate_probability_discrete(df[df[col1]==event1][col2],event2)\n",
    "    \n",
    "    prob = (p_A*p_B_given_A)/p_B\n",
    "        \n",
    "    return prob\n",
    "\n"
   ]
  },
  {
   "cell_type": "code",
   "execution_count": 10,
   "metadata": {},
   "outputs": [
    {
     "name": "stdout",
     "output_type": "stream",
     "text": [
      "   case  cc3  country  year  systemic_crisis  exch_usd  \\\n",
      "0     1  DZA  Algeria  1870                1  0.052264   \n",
      "1     1  DZA  Algeria  1871                0  0.052798   \n",
      "2     1  DZA  Algeria  1872                0  0.052274   \n",
      "3     1  DZA  Algeria  1873                0  0.051680   \n",
      "4     1  DZA  Algeria  1874                0  0.051308   \n",
      "\n",
      "   domestic_debt_in_default  sovereign_external_debt_default  \\\n",
      "0                         0                                0   \n",
      "1                         0                                0   \n",
      "2                         0                                0   \n",
      "3                         0                                0   \n",
      "4                         0                                0   \n",
      "\n",
      "   gdp_weighted_default  inflation_annual_cpi  independence  currency_crises  \\\n",
      "0                   0.0              3.441456             0                0   \n",
      "1                   0.0             14.149140             0                0   \n",
      "2                   0.0             -3.718593             0                0   \n",
      "3                   0.0             11.203897             0                0   \n",
      "4                   0.0             -3.848561             0                0   \n",
      "\n",
      "   inflation_crises banking_crisis  \n",
      "0                 0         crisis  \n",
      "1                 0      no_crisis  \n",
      "2                 0      no_crisis  \n",
      "3                 0      no_crisis  \n",
      "4                 0      no_crisis  \n"
     ]
    }
   ],
   "source": [
    "# Load the dataset\n",
    "path = \"/Users/rahulkosamkar/Documents/Data_Science/Projects/Descriptive_stats_and_Probability/Probability_and_stats_extracting_business_insights /extracting_business_insights_data_set.csv\"\n",
    "df = pd.read_csv(path)\n",
    "print(df.head())\n"
   ]
  },
  {
   "cell_type": "code",
   "execution_count": 11,
   "metadata": {},
   "outputs": [
    {
     "name": "stdout",
     "output_type": "stream",
     "text": [
      "Distribution of the Countries\n"
     ]
    },
    {
     "data": {
      "image/png": "[encoded data removed]",
      "text/plain": [
       "<Figure size 432x288 with 1 Axes>"
      ]
     },
     "metadata": {},
     "output_type": "display_data"
    },
    {
     "name": "stdout",
     "output_type": "stream",
     "text": [
      "Distribution of exch_usd\n"
     ]
    },
    {
     "data": {
      "image/png": "[encoded data removed]",
      "text/plain": [
       "<Figure size 432x288 with 1 Axes>"
      ]
     },
     "metadata": {
      "needs_background": "light"
     },
     "output_type": "display_data"
    },
    {
     "name": "stdout",
     "output_type": "stream",
     "text": [
      "Country:  Algeria\n"
     ]
    },
    {
     "data": {
      "image/png": "[encoded data removed]",
      "text/plain": [
       "<Figure size 432x288 with 1 Axes>"
      ]
     },
     "metadata": {
      "needs_background": "light"
     },
     "output_type": "display_data"
    },
    {
     "name": "stdout",
     "output_type": "stream",
     "text": [
      "Country:  Angola\n"
     ]
    },
    {
     "data": {
      "image/png": "[encoded data removed]",
      "text/plain": [
       "<Figure size 432x288 with 1 Axes>"
      ]
     },
     "metadata": {
      "needs_background": "light"
     },
     "output_type": "display_data"
    },
    {
     "name": "stdout",
     "output_type": "stream",
     "text": [
      "Country:  Central African Republic\n"
     ]
    },
    {
     "data": {
      "image/png": "[encoded data removed]",
      "text/plain": [
       "<Figure size 432x288 with 1 Axes>"
      ]
     },
     "metadata": {
      "needs_background": "light"
     },
     "output_type": "display_data"
    },
    {
     "name": "stdout",
     "output_type": "stream",
     "text": [
      "Country:  Ivory Coast\n"
     ]
    },
    {
     "data": {
      "image/png": "[encoded data removed]",
      "text/plain": [
       "<Figure size 432x288 with 1 Axes>"
      ]
     },
     "metadata": {
      "needs_background": "light"
     },
     "output_type": "display_data"
    },
    {
     "name": "stdout",
     "output_type": "stream",
     "text": [
      "Country:  Egypt\n"
     ]
    },
    {
     "data": {
      "image/png": "[encoded data removed]",
      "text/plain": [
       "<Figure size 432x288 with 1 Axes>"
      ]
     },
     "metadata": {
      "needs_background": "light"
     },
     "output_type": "display_data"
    },
    {
     "name": "stdout",
     "output_type": "stream",
     "text": [
      "Country:  Kenya\n"
     ]
    },
    {
     "data": {
      "image/png": "[encoded data removed]",
      "text/plain": [
       "<Figure size 432x288 with 1 Axes>"
      ]
     },
     "metadata": {
      "needs_background": "light"
     },
     "output_type": "display_data"
    },
    {
     "name": "stdout",
     "output_type": "stream",
     "text": [
      "Country:  Mauritius\n"
     ]
    },
    {
     "data": {
      "image/png": "[encoded data removed]",
      "text/plain": [
       "<Figure size 432x288 with 1 Axes>"
      ]
     },
     "metadata": {
      "needs_background": "light"
     },
     "output_type": "display_data"
    },
    {
     "name": "stdout",
     "output_type": "stream",
     "text": [
      "Country:  Morocco\n"
     ]
    },
    {
     "data": {
      "image/png": "[encoded data removed]",
      "text/plain": [
       "<Figure size 432x288 with 1 Axes>"
      ]
     },
     "metadata": {
      "needs_background": "light"
     },
     "output_type": "display_data"
    },
    {
     "name": "stdout",
     "output_type": "stream",
     "text": [
      "Country:  Nigeria\n"
     ]
    },
    {
     "data": {
      "image/png": "[encoded data removed]",
      "text/plain": [
       "<Figure size 432x288 with 1 Axes>"
      ]
     },
     "metadata": {
      "needs_background": "light"
     },
     "output_type": "display_data"
    },
    {
     "name": "stdout",
     "output_type": "stream",
     "text": [
      "Country:  South Africa\n"
     ]
    },
    {
     "data": {
      "image/png": "[encoded data removed]",
      "text/plain": [
       "<Figure size 432x288 with 1 Axes>"
      ]
     },
     "metadata": {
      "needs_background": "light"
     },
     "output_type": "display_data"
    },
    {
     "name": "stdout",
     "output_type": "stream",
     "text": [
      "Country:  Tunisia\n"
     ]
    },
    {
     "data": {
      "image/png": "[encoded data removed]",
      "text/plain": [
       "<Figure size 432x288 with 1 Axes>"
      ]
     },
     "metadata": {
      "needs_background": "light"
     },
     "output_type": "display_data"
    },
    {
     "name": "stdout",
     "output_type": "stream",
     "text": [
      "Country:  Zambia\n"
     ]
    },
    {
     "data": {
      "image/png": "[encoded data removed]",
      "text/plain": [
       "<Figure size 432x288 with 1 Axes>"
      ]
     },
     "metadata": {
      "needs_background": "light"
     },
     "output_type": "display_data"
    },
    {
     "name": "stdout",
     "output_type": "stream",
     "text": [
      "Country:  Zimbabwe\n"
     ]
    },
    {
     "data": {
      "image/png": "[encoded data removed]",
      "text/plain": [
       "<Figure size 432x288 with 1 Axes>"
      ]
     },
     "metadata": {
      "needs_background": "light"
     },
     "output_type": "display_data"
    }
   ],
   "source": [
    "# Using the visual_summary(), visualize the distribution of the data provided.\n",
    "# You can also do it at country level or based on years by passing appropriate arguments to the fuction.\n",
    "print(\"Distribution of the Countries\")\n",
    "visual_summary('pie', df, 'country')\n",
    "print(\"Distribution of exch_usd\")\n",
    "visual_summary('hist', df, 'exch_usd')\n",
    "\n",
    "for c in list(df['country'].unique()):\n",
    "    print(\"Country: \", c)\n",
    "    visual_summary('scatter', df[df['country'] == c], ['year', 'inflation_annual_cpi'])\n",
    "\n"
   ]
  },
  {
   "cell_type": "code",
   "execution_count": 12,
   "metadata": {},
   "outputs": [
    {
     "name": "stdout",
     "output_type": "stream",
     "text": [
      "Mean of exch_usd: 43.14083067115856\n",
      "Mode of country 0    Egypt\n",
      "dtype: object\n",
      "Median of exch_usd: 0.8684\n"
     ]
    }
   ],
   "source": [
    "# You might also want to see the central tendency of certain variables. Call the central_tendency() to do the same.\n",
    "# This can also be done at country level or based on years by passing appropriate arguments to the fuction.\n",
    "print(\"Mean of exch_usd:\", central_tendency('mean', df, 'exch_usd'))\n",
    "print(\"Mode of country\", central_tendency('mode', df, 'country'))\n",
    "print(\"Median of exch_usd:\", central_tendency('median', df, 'exch_usd'))\n",
    "\n"
   ]
  },
  {
   "cell_type": "code",
   "execution_count": 13,
   "metadata": {},
   "outputs": [
    {
     "name": "stdout",
     "output_type": "stream",
     "text": [
      "Range of inflation_annual_cpi:  21989723.722136877\n",
      "MAD of gdp_weighted_default: 0.012441797943968734\n",
      "CV of gdp_weighted_default: 680.2432156845994\n",
      "Std Dev of gdp_weighted_default: 0.04355098208065706\n",
      "Cov between 'gdp_weighted_default', 'inflation_annual_cpi': -133.40752083518692\n"
     ]
    }
   ],
   "source": [
    "# Measures of dispersion gives a good insight about the distribution of the variable.\n",
    "# Call the measure_of_dispersion() with desired parameters and see the summary of different variables.\n",
    "print(\"Range of inflation_annual_cpi: \", measure_of_dispersion('range', df, 'inflation_annual_cpi'))\n",
    "print(\"MAD of gdp_weighted_default:\", measure_of_dispersion('MAD', df, 'gdp_weighted_default'))\n",
    "print(\"CV of gdp_weighted_default:\", measure_of_dispersion('CV', df, 'gdp_weighted_default'))\n",
    "print(\"Std Dev of gdp_weighted_default:\", measure_of_dispersion('std dev', df, 'gdp_weighted_default'))\n",
    "print(\"Cov between 'gdp_weighted_default', 'inflation_annual_cpi':\", measure_of_dispersion('cov', df, ['gdp_weighted_default', 'inflation_annual_cpi']))\n",
    "\n"
   ]
  },
  {
   "cell_type": "code",
   "execution_count": 14,
   "metadata": {},
   "outputs": [
    {
     "name": "stdout",
     "output_type": "stream",
     "text": [
      "Corr between inflation_annual_cpi and systemic_crisis 0.10645164388681207\n"
     ]
    }
   ],
   "source": [
    "# There might exists a correlation between different variables. \n",
    "# Call the calculate_correlation() to check the correlation of the variables you desire.\n",
    "print(\"Corr between inflation_annual_cpi and systemic_crisis\", calculate_correlation('Pearson',df,'inflation_annual_cpi','systemic_crisis'))\n"
   ]
  },
  {
   "cell_type": "code",
   "execution_count": 15,
   "metadata": {},
   "outputs": [
    {
     "name": "stdout",
     "output_type": "stream",
     "text": [
      "Country:  Algeria\n",
      "Probability of Crisis:  0.0471\n",
      "Country:  Angola\n",
      "Probability of Crisis:  0.0909\n",
      "Country:  Central African Republic\n",
      "Probability of Crisis:  0.3276\n",
      "Country:  Ivory Coast\n",
      "Probability of Crisis:  0.0635\n",
      "Country:  Egypt\n",
      "Probability of Crisis:  0.071\n",
      "Country:  Kenya\n",
      "Probability of Crisis:  0.1194\n",
      "Country:  Mauritius\n",
      "Probability of Crisis:  0.0147\n",
      "Country:  Morocco\n",
      "Probability of Crisis:  0.0267\n",
      "Country:  Nigeria\n",
      "Probability of Crisis:  0.1833\n",
      "Country:  South Africa\n",
      "Probability of Crisis:  0.0263\n",
      "Country:  Tunisia\n",
      "Probability of Crisis:  0.0667\n",
      "Country:  Zambia\n",
      "Probability of Crisis:  0.0556\n",
      "Country:  Zimbabwe\n",
      "Probability of Crisis:  0.1667\n",
      "{'Algeria': 0.0471, 'Angola': 0.0909, 'Central African Republic': 0.3276, 'Ivory Coast': 0.0635, 'Egypt': 0.071, 'Kenya': 0.1194, 'Mauritius': 0.0147, 'Morocco': 0.0267, 'Nigeria': 0.1833, 'South Africa': 0.0263, 'Tunisia': 0.0667, 'Zambia': 0.0556, 'Zimbabwe': 0.1667}\n"
     ]
    }
   ],
   "source": [
    "# From the given data, let's check the probability of banking_crisis for different countries.\n",
    "# Call the calculate_probability_discrete() to check the desired probability.\n",
    "# Also check which country has the maximum probability of facing the crisis.  \n",
    "# You can do it by storing the probabilities in a dictionary, with country name as the key. Or you are free to use any other technique.\n",
    "prob_crisis = {}\n",
    "for c in list(df.country.unique()):\n",
    "        print(\"Country: \", c)\n",
    "        prob_crisis[c] = round(calculate_probability_discrete(df[df['country'] == c]['banking_crisis'], 'crisis' ), 4)\n",
    "        print(\"Probability of Crisis: \", prob_crisis[c])\n",
    "        \n",
    "print(prob_crisis)"
   ]
  },
  {
   "cell_type": "code",
   "execution_count": 16,
   "metadata": {},
   "outputs": [],
   "source": [
    "# Next, let us check if banking_crisis is independent of systemic_crisis, currency_crisis & inflation_crisis.\n",
    "# Calculate the probabilities of these event using calculate_probability_discrete() & joint probabilities as well.\n",
    "# Then call event_independence_check() with above probabilities to check for independence.\n",
    "b_crisis = calculate_probability_discrete(df['banking_crisis'], 'crisis' )\n",
    "s_crisis = calculate_probability_discrete(df['systemic_crisis'], 1 )\n",
    "c_crisis = calculate_probability_discrete(df['currency_crises'], 1 )\n",
    "i_crisis = calculate_probability_discrete(df['inflation_crises'], 1 )\n",
    "\n",
    "df1 = df[df['currency_crises'] == 1]\n"
   ]
  },
  {
   "cell_type": "code",
   "execution_count": 17,
   "metadata": {},
   "outputs": [
    {
     "name": "stdout",
     "output_type": "stream",
     "text": [
      "0.06137865911237017 0.01661374557393304\n",
      "Event 1 and Event 2 are not independent.\n"
     ]
    }
   ],
   "source": [
    "# Calculate the P(A|B)\n",
    "p_i_given_c = df1[df1['inflation_crises'] == 1].shape[0]/df1.shape[0]\n",
    "p_c_i = p_i_given_c * c_crisis\n",
    "print(p_c_i, c_crisis * i_crisis)\n",
    "event_independence_check(c_crisis, i_crisis, p_c_i)\n"
   ]
  },
  {
   "cell_type": "code",
   "execution_count": 18,
   "metadata": {},
   "outputs": [
    {
     "name": "stdout",
     "output_type": "stream",
     "text": [
      "Probability of banking_crisis given that other crisis have already occured: [0.9268292682926829, 0.21323529411764705, 0.2627737226277373]\n"
     ]
    }
   ],
   "source": [
    "# Finally, let us calculate the probability of banking_crisis given that other crises (systemic_crisis, currency_crisis & inflation_crisis one by one) have already occured.\n",
    "# This can be done by calling the bayes_theorem() you have defined with respective parameters.\n",
    "\n",
    "prob_ = []\n",
    "\n",
    "prob_.append(bayes_theorem(df,'banking_crisis','crisis','systemic_crisis', 1))\n",
    "prob_.append(bayes_theorem(df,'banking_crisis','crisis','currency_crises', 1))\n",
    "prob_.append(bayes_theorem(df,'banking_crisis','crisis','inflation_crises', 1))\n",
    "\n",
    "\n",
    "print(\"Probability of banking_crisis given that other crisis have already occured:\", prob_)"
   ]
  },
  {
   "cell_type": "code",
   "execution_count": null,
   "metadata": {},
   "outputs": [],
   "source": []
  }
 ],
 "metadata": {
  "kernelspec": {
   "display_name": "Python 3",
   "language": "python",
   "name": "python3"
  },
  "language_info": {
   "codemirror_mode": {
    "name": "ipython",
    "version": 3
   },
   "file_extension": ".py",
   "mimetype": "text/x-python",
   "name": "python",
   "nbconvert_exporter": "python",
   "pygments_lexer": "ipython3",
   "version": "3.8.5"
  }
 },
 "nbformat": 4,
 "nbformat_minor": 4
}
